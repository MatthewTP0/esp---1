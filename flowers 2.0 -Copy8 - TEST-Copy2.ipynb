{
 "cells": [
  {
   "cell_type": "code",
   "execution_count": 92,
   "id": "ac2e338b",
   "metadata": {},
   "outputs": [],
   "source": [
    "# automatically loads the best weights for you\n",
    "#trainer.test(model)"
   ]
  },
  {
   "cell_type": "code",
   "execution_count": 93,
   "id": "24453795",
   "metadata": {},
   "outputs": [],
   "source": [
    "#trainer.predict(model, datamodule)"
   ]
  },
  {
   "cell_type": "code",
   "execution_count": 94,
   "id": "95c52575",
   "metadata": {},
   "outputs": [],
   "source": [
    "# automatically auto-loads the best weights from the previous run\n",
    "\n",
    "#trainer.test(model)"
   ]
  },
  {
   "cell_type": "code",
   "execution_count": 95,
   "id": "a656027c",
   "metadata": {},
   "outputs": [],
   "source": [
    "# load from checkpoint test\n",
    "\n",
    "#model = MyLightningModule.load_from_checkpoint(PATH)\n",
    "#trainer = Trainer()\n",
    "#trainer.test(model, dataloaders=test_dataloader)"
   ]
  },
  {
   "cell_type": "code",
   "execution_count": 1,
   "id": "0ac19258",
   "metadata": {},
   "outputs": [],
   "source": [
    "import pytorch_lightning as pl\n",
    "import os\n",
    "import torch\n",
    "from torch import nn\n",
    "from torch import optim\n",
    "from torch.utils.data import DataLoader, random_split\n",
    "import torchvision\n",
    "from torchvision import transforms, models\n",
    "import torch.nn as nn\n",
    "import torch.nn.functional as F\n",
    "import numpy as np\n",
    "from torchvision.datasets import ImageFolder\n",
    "import torchmetrics\n",
    "from pytorch_lightning import Trainer\n",
    "from pytorch_lightning.callbacks import Callback\n",
    "from pytorch_lightning.callbacks import ModelCheckpoint\n",
    "from pytorch_lightning import Trainer\n",
    "from pytorch_lightning.loggers import TensorBoardLogger\n",
    "from pytorch_lightning.callbacks.early_stopping import EarlyStopping\n",
    "from pytorch_lightning import Trainer\n",
    "from pytorch_lightning.loggers import TensorBoardLogger\n",
    "from pytorch_lightning.callbacks import LearningRateMonitor"
   ]
  },
  {
   "cell_type": "code",
   "execution_count": 9,
   "id": "2163bf54",
   "metadata": {},
   "outputs": [],
   "source": [
    "class FlowersClassifierDataModule(pl.LightningDataModule):\n",
    "    def __init__(self, batch_size: int=16, data_dir: str = r\"C:\\Users\\matth\\OneDrive\\Desktop\\school\\archive (1)\\flower_data\\flower_data\"):\n",
    "        super().__init__()\n",
    "        self.data_dir = data_dir\n",
    "        self.batch_size = batch_size\n",
    "\n",
    "        # Augmentation policy for training set\n",
    "    def setup(self, stage):\n",
    "        transform_train = transforms.Compose([\n",
    "              transforms.RandomResizedCrop(size=256),\n",
    "              transforms.RandomRotation(degrees=15),\n",
    "              transforms.RandomHorizontalFlip(),\n",
    "              transforms.CenterCrop(size=224),\n",
    "              transforms.ToTensor(),\n",
    "              transforms.Normalize([0.485, 0.456, 0.406],[0.229, 0.224, 0.225])\n",
    "        ])\n",
    "        # Preprocessing steps applied to validation and test set.\n",
    "        transform_val = transforms.Compose([\n",
    "              transforms.Resize(size=256),\n",
    "              transforms.CenterCrop(size=224),\n",
    "              transforms.ToTensor(),\n",
    "              transforms.Normalize([0.485, 0.456, 0.406],[0.229, 0.224, 0.225])\n",
    "        ])\n",
    "        \n",
    "        tr_data = ImageFolder(self.data_dir + '\\\\train', transform_train)\n",
    "        self.test_dataset = ImageFolder(self.data_dir + '\\\\valid', transform_val)\n",
    "        \n",
    "  \n",
    "        train_set_size = int(len(tr_data) * 0.95)\n",
    "        valid_set_size = len(tr_data) - train_set_size\n",
    "\n",
    "    # split the train set into two\n",
    "        seed = torch.Generator().manual_seed(42)\n",
    "        self.train_dataset, self.val_dataset = random_split(tr_data, [train_set_size, valid_set_size], generator=seed)\n",
    "\n",
    "            \n",
    "    def train_dataloader(self):\n",
    "        return DataLoader(self.train_dataset, batch_size=self.batch_size, num_workers=6)\n",
    "\n",
    "    def val_dataloader(self):\n",
    "        return DataLoader(self.val_dataset, batch_size=self.batch_size, num_workers=6)\n",
    "    \n",
    "    def test_dataloader(self):\n",
    "        return DataLoader(self.test_dataset, batch_size=self.batch_size, num_workers=6)\n",
    "    \n",
    "    def predict_dataloader(self):\n",
    "        return DataLoader(self.test_dataset, batch_size=self.batch_size, num_workers=6)\n",
    "        "
   ]
  },
  {
   "cell_type": "code",
   "execution_count": 3,
   "id": "443e88e1",
   "metadata": {},
   "outputs": [],
   "source": [
    "class FlowersClassifier(pl.LightningModule):\n",
    "    def __init__(self):\n",
    "        super().__init__()\n",
    "        self.criterion =  nn.CrossEntropyLoss()\n",
    "        self.accuracy = torchmetrics.Accuracy(average='macro', num_classes= 102)\n",
    "        self.backbone = models.resnet18(pretrained=True)\n",
    "        self.linear = nn.Linear(1000, 102)\n",
    "        \n",
    "    def forward(self, x):\n",
    "        x = self.backbone(x)\n",
    "        x = self.linear(x)\n",
    "        return(x)\n",
    "    \n",
    "    def training_step(self, batch, batch_idx):\n",
    "        x, y = batch\n",
    "        y_hat = self(x)\n",
    "        loss = self.criterion(y_hat, y)\n",
    "        acc = self.accuracy(y_hat, y)\n",
    "        self.log(\"mytrain_loss\", loss, on_epoch=True, prog_bar=True, logger=True)\n",
    "        self.log(\"mytrain_acc\", acc, on_epoch=True, prog_bar=True, logger=True)\n",
    "        return {'loss': loss,'accuracy': acc,}\n",
    "        \n",
    "    def validation_step(self, batch, batch_idx):\n",
    "        x, y = batch\n",
    "        y_hat = self(x)\n",
    "        loss = self.criterion(y_hat, y)\n",
    "        acc = self.accuracy(y_hat, y)\n",
    "        self.log(\"val_loss\", loss, on_epoch=True, prog_bar=True, logger=True)\n",
    "        self.log(\"val_accuracy\", acc, on_epoch=True, prog_bar=True, logger=True)\n",
    "        return {'val_loss': loss,'val_accuracy': acc, \"pred\": y_hat.detach(), \"labels\": y}\n",
    "    \n",
    "    def test_step(self, batch, batch_idx):\n",
    "        x, y = batch\n",
    "        y_hat = self(x)\n",
    "        loss = self.criterion(y_hat, y)\n",
    "        acc = self.accuracy(y_hat, y)\n",
    "        metrics = {\"test_loss\": loss, \"test_accuracy\": acc}\n",
    "        self.log_dict(metrics)\n",
    "        return metrics\n",
    "\n",
    "    def predict_step(self, batch, batch_idx, dataloader_idx=0):\n",
    "        x, y = batch\n",
    "        y_hat = self(x)\n",
    "        return y_hat\n",
    "    \n",
    "    def validation_epoch_end(self, outputs):\n",
    "        val_loss = torch.stack([x['val_loss'] for x in outputs]).mean()\n",
    "        log = {\"avg_val_loss\": val_loss}\n",
    "        self.log(\"avg_val_loss\", val_loss, on_epoch=True, prog_bar=True, logger=True)\n",
    "        return {\"log\": log, \"val_loss\": val_loss}\n",
    "\n",
    "    def configure_optimizers(self):\n",
    "        optimizer = optim.SGD(model.parameters(), lr=1e-2)\n",
    "        return optimizer"
   ]
  },
  {
   "cell_type": "code",
   "execution_count": 4,
   "id": "a96d6153",
   "metadata": {},
   "outputs": [
    {
     "name": "stderr",
     "output_type": "stream",
     "text": [
      "C:\\Users\\matth\\anaconda3\\lib\\site-packages\\torchvision\\models\\_utils.py:208: UserWarning: The parameter 'pretrained' is deprecated since 0.13 and will be removed in 0.15, please use 'weights' instead.\n",
      "  warnings.warn(\n",
      "C:\\Users\\matth\\anaconda3\\lib\\site-packages\\torchvision\\models\\_utils.py:223: UserWarning: Arguments other than a weight enum or `None` for 'weights' are deprecated since 0.13 and will be removed in 0.15. The current behavior is equivalent to passing `weights=ResNet18_Weights.IMAGENET1K_V1`. You can also use `weights=ResNet18_Weights.DEFAULT` to get the most up-to-date weights.\n",
      "  warnings.warn(msg)\n"
     ]
    }
   ],
   "source": [
    "model = FlowersClassifier()\n",
    "datamodule = FlowersClassifierDataModule()\n",
    "\n",
    "logger = TensorBoardLogger(\"lightning_logs\", name=\"my_model\")\n",
    "# saves top-K checkpoints based on \"val_loss\" metric\n",
    "checkpoint_callback = ModelCheckpoint(\n",
    "    save_top_k=1,\n",
    "    monitor=\"val_loss\",\n",
    "    mode=\"min\",\n",
    "    dirpath=r\"\\Users\\matth\\OneDrive\\Desktop\\school\\archive (1)\")"
   ]
  },
  {
   "cell_type": "code",
   "execution_count": 5,
   "id": "eefee55d",
   "metadata": {
    "scrolled": true
   },
   "outputs": [
    {
     "name": "stderr",
     "output_type": "stream",
     "text": [
      "GPU available: True (cuda), used: True\n",
      "TPU available: False, using: 0 TPU cores\n",
      "IPU available: False, using: 0 IPUs\n",
      "HPU available: False, using: 0 HPUs\n"
     ]
    }
   ],
   "source": [
    "trainer = pl.Trainer(accelerator=\"gpu\", devices=1, max_epochs=20, log_every_n_steps=16, callbacks=[EarlyStopping(monitor=\"mytrain_loss\", mode=\"min\"), checkpoint_callback])"
   ]
  },
  {
   "cell_type": "code",
   "execution_count": 6,
   "id": "f3770132",
   "metadata": {
    "scrolled": false
   },
   "outputs": [
    {
     "name": "stderr",
     "output_type": "stream",
     "text": [
      "C:\\Users\\matth\\anaconda3\\lib\\site-packages\\pytorch_lightning\\callbacks\\model_checkpoint.py:616: UserWarning: Checkpoint directory C:\\Users\\matth\\OneDrive\\Desktop\\school\\archive (1) exists and is not empty.\n",
      "  rank_zero_warn(f\"Checkpoint directory {dirpath} exists and is not empty.\")\n",
      "LOCAL_RANK: 0 - CUDA_VISIBLE_DEVICES: [0]\n",
      "\n",
      "  | Name      | Type             | Params\n",
      "-----------------------------------------------\n",
      "0 | criterion | CrossEntropyLoss | 0     \n",
      "1 | accuracy  | Accuracy         | 0     \n",
      "2 | backbone  | ResNet           | 11.7 M\n",
      "3 | linear    | Linear           | 102 K \n",
      "-----------------------------------------------\n",
      "11.8 M    Trainable params\n",
      "0         Non-trainable params\n",
      "11.8 M    Total params\n",
      "47.166    Total estimated model params size (MB)\n"
     ]
    },
    {
     "data": {
      "application/vnd.jupyter.widget-view+json": {
       "model_id": "",
       "version_major": 2,
       "version_minor": 0
      },
      "text/plain": [
       "Sanity Checking: 0it [00:00, ?it/s]"
      ]
     },
     "metadata": {},
     "output_type": "display_data"
    },
    {
     "data": {
      "application/vnd.jupyter.widget-view+json": {
       "model_id": "f83d5b379c094fd5926146a5412d061d",
       "version_major": 2,
       "version_minor": 0
      },
      "text/plain": [
       "Training: 0it [00:00, ?it/s]"
      ]
     },
     "metadata": {},
     "output_type": "display_data"
    },
    {
     "data": {
      "application/vnd.jupyter.widget-view+json": {
       "model_id": "",
       "version_major": 2,
       "version_minor": 0
      },
      "text/plain": [
       "Validation: 0it [00:00, ?it/s]"
      ]
     },
     "metadata": {},
     "output_type": "display_data"
    },
    {
     "data": {
      "application/vnd.jupyter.widget-view+json": {
       "model_id": "",
       "version_major": 2,
       "version_minor": 0
      },
      "text/plain": [
       "Validation: 0it [00:00, ?it/s]"
      ]
     },
     "metadata": {},
     "output_type": "display_data"
    },
    {
     "data": {
      "application/vnd.jupyter.widget-view+json": {
       "model_id": "",
       "version_major": 2,
       "version_minor": 0
      },
      "text/plain": [
       "Validation: 0it [00:00, ?it/s]"
      ]
     },
     "metadata": {},
     "output_type": "display_data"
    },
    {
     "data": {
      "application/vnd.jupyter.widget-view+json": {
       "model_id": "",
       "version_major": 2,
       "version_minor": 0
      },
      "text/plain": [
       "Validation: 0it [00:00, ?it/s]"
      ]
     },
     "metadata": {},
     "output_type": "display_data"
    },
    {
     "data": {
      "application/vnd.jupyter.widget-view+json": {
       "model_id": "",
       "version_major": 2,
       "version_minor": 0
      },
      "text/plain": [
       "Validation: 0it [00:00, ?it/s]"
      ]
     },
     "metadata": {},
     "output_type": "display_data"
    },
    {
     "data": {
      "application/vnd.jupyter.widget-view+json": {
       "model_id": "",
       "version_major": 2,
       "version_minor": 0
      },
      "text/plain": [
       "Validation: 0it [00:00, ?it/s]"
      ]
     },
     "metadata": {},
     "output_type": "display_data"
    },
    {
     "data": {
      "application/vnd.jupyter.widget-view+json": {
       "model_id": "",
       "version_major": 2,
       "version_minor": 0
      },
      "text/plain": [
       "Validation: 0it [00:00, ?it/s]"
      ]
     },
     "metadata": {},
     "output_type": "display_data"
    },
    {
     "data": {
      "application/vnd.jupyter.widget-view+json": {
       "model_id": "",
       "version_major": 2,
       "version_minor": 0
      },
      "text/plain": [
       "Validation: 0it [00:00, ?it/s]"
      ]
     },
     "metadata": {},
     "output_type": "display_data"
    },
    {
     "data": {
      "application/vnd.jupyter.widget-view+json": {
       "model_id": "",
       "version_major": 2,
       "version_minor": 0
      },
      "text/plain": [
       "Validation: 0it [00:00, ?it/s]"
      ]
     },
     "metadata": {},
     "output_type": "display_data"
    },
    {
     "data": {
      "application/vnd.jupyter.widget-view+json": {
       "model_id": "",
       "version_major": 2,
       "version_minor": 0
      },
      "text/plain": [
       "Validation: 0it [00:00, ?it/s]"
      ]
     },
     "metadata": {},
     "output_type": "display_data"
    },
    {
     "data": {
      "application/vnd.jupyter.widget-view+json": {
       "model_id": "",
       "version_major": 2,
       "version_minor": 0
      },
      "text/plain": [
       "Validation: 0it [00:00, ?it/s]"
      ]
     },
     "metadata": {},
     "output_type": "display_data"
    },
    {
     "data": {
      "application/vnd.jupyter.widget-view+json": {
       "model_id": "",
       "version_major": 2,
       "version_minor": 0
      },
      "text/plain": [
       "Validation: 0it [00:00, ?it/s]"
      ]
     },
     "metadata": {},
     "output_type": "display_data"
    },
    {
     "data": {
      "application/vnd.jupyter.widget-view+json": {
       "model_id": "",
       "version_major": 2,
       "version_minor": 0
      },
      "text/plain": [
       "Validation: 0it [00:00, ?it/s]"
      ]
     },
     "metadata": {},
     "output_type": "display_data"
    },
    {
     "data": {
      "application/vnd.jupyter.widget-view+json": {
       "model_id": "",
       "version_major": 2,
       "version_minor": 0
      },
      "text/plain": [
       "Validation: 0it [00:00, ?it/s]"
      ]
     },
     "metadata": {},
     "output_type": "display_data"
    },
    {
     "data": {
      "application/vnd.jupyter.widget-view+json": {
       "model_id": "",
       "version_major": 2,
       "version_minor": 0
      },
      "text/plain": [
       "Validation: 0it [00:00, ?it/s]"
      ]
     },
     "metadata": {},
     "output_type": "display_data"
    },
    {
     "data": {
      "application/vnd.jupyter.widget-view+json": {
       "model_id": "",
       "version_major": 2,
       "version_minor": 0
      },
      "text/plain": [
       "Validation: 0it [00:00, ?it/s]"
      ]
     },
     "metadata": {},
     "output_type": "display_data"
    },
    {
     "data": {
      "application/vnd.jupyter.widget-view+json": {
       "model_id": "",
       "version_major": 2,
       "version_minor": 0
      },
      "text/plain": [
       "Validation: 0it [00:00, ?it/s]"
      ]
     },
     "metadata": {},
     "output_type": "display_data"
    },
    {
     "data": {
      "application/vnd.jupyter.widget-view+json": {
       "model_id": "",
       "version_major": 2,
       "version_minor": 0
      },
      "text/plain": [
       "Validation: 0it [00:00, ?it/s]"
      ]
     },
     "metadata": {},
     "output_type": "display_data"
    },
    {
     "data": {
      "application/vnd.jupyter.widget-view+json": {
       "model_id": "",
       "version_major": 2,
       "version_minor": 0
      },
      "text/plain": [
       "Validation: 0it [00:00, ?it/s]"
      ]
     },
     "metadata": {},
     "output_type": "display_data"
    },
    {
     "data": {
      "application/vnd.jupyter.widget-view+json": {
       "model_id": "",
       "version_major": 2,
       "version_minor": 0
      },
      "text/plain": [
       "Validation: 0it [00:00, ?it/s]"
      ]
     },
     "metadata": {},
     "output_type": "display_data"
    },
    {
     "name": "stderr",
     "output_type": "stream",
     "text": [
      "`Trainer.fit` stopped: `max_epochs=20` reached.\n"
     ]
    }
   ],
   "source": [
    "trainer.fit(model, datamodule)"
   ]
  },
  {
   "cell_type": "code",
   "execution_count": 7,
   "id": "babd0aa9",
   "metadata": {
    "scrolled": true
   },
   "outputs": [
    {
     "name": "stderr",
     "output_type": "stream",
     "text": [
      "LOCAL_RANK: 0 - CUDA_VISIBLE_DEVICES: [0]\n"
     ]
    },
    {
     "data": {
      "application/vnd.jupyter.widget-view+json": {
       "model_id": "4bd17d1194e24dc0aab524f08b0b05a6",
       "version_major": 2,
       "version_minor": 0
      },
      "text/plain": [
       "Testing: 0it [00:00, ?it/s]"
      ]
     },
     "metadata": {},
     "output_type": "display_data"
    },
    {
     "name": "stdout",
     "output_type": "stream",
     "text": [
      "────────────────────────────────────────────────────────────────────────────────────────────────────────────────────────────────────────────────────────────────────────────────────────\r\n",
      "       Test metric             DataLoader 0\r\n",
      "────────────────────────────────────────────────────────────────────────────────────────────────────────────────────────────────────────────────────────────────────────────────────────\r\n",
      "      test_accuracy         0.8267789483070374\r\n",
      "        test_loss           0.1669778823852539\r\n",
      "────────────────────────────────────────────────────────────────────────────────────────────────────────────────────────────────────────────────────────────────────────────────────────\n"
     ]
    },
    {
     "data": {
      "text/plain": [
       "[{'test_loss': 0.1669778823852539, 'test_accuracy': 0.8267789483070374}]"
      ]
     },
     "execution_count": 7,
     "metadata": {},
     "output_type": "execute_result"
    }
   ],
   "source": [
    "# automatically auto-loads the best weights from the previous run\n",
    "\n",
    "dm = FlowersClassifierDataModule()\n",
    "\n",
    "trainer.test(model, datamodule=dm)"
   ]
  },
  {
   "cell_type": "code",
   "execution_count": 10,
   "id": "63df6184",
   "metadata": {},
   "outputs": [
    {
     "name": "stderr",
     "output_type": "stream",
     "text": [
      "LOCAL_RANK: 0 - CUDA_VISIBLE_DEVICES: [0]\n"
     ]
    },
    {
     "data": {
      "application/vnd.jupyter.widget-view+json": {
       "model_id": "b77d7c947bd44846b7d5d412d0e88d5c",
       "version_major": 2,
       "version_minor": 0
      },
      "text/plain": [
       "Predicting: 389it [00:00, ?it/s]"
      ]
     },
     "metadata": {},
     "output_type": "display_data"
    },
    {
     "data": {
      "text/plain": [
       "[tensor([[ 19.9797,  -2.5054,  -2.7752,  ...,   4.8495,   2.2800,  -7.3665],\n",
       "         [ 26.4249,  -4.9671,  -3.9212,  ...,   4.4823,   5.4735, -10.6042],\n",
       "         [ 23.0775,  -2.1155,  -1.6833,  ...,   6.1773,   2.7814, -10.2371],\n",
       "         ...,\n",
       "         [ -5.0666,   3.5981,  21.1483,  ...,   2.9519,  -6.1566,   4.7181],\n",
       "         [-10.0946,   1.7630,  22.5440,  ...,  -0.3415,  -2.9383,   6.1123],\n",
       "         [ -4.4721,   3.8064,  23.7839,  ...,   1.8412,  -2.4666,   2.1303]]),\n",
       " tensor([[-9.5627,  8.9698, 18.8213,  ...,  2.9813, -4.9705,  1.4096],\n",
       "         [-5.7121,  3.9437, 21.4284,  ...,  0.4167, -8.4330,  4.4269],\n",
       "         [-4.9498, -9.1242,  3.9755,  ..., 10.0731, -5.6682,  5.6051],\n",
       "         ...,\n",
       "         [-2.5744, -0.3817,  0.4739,  ..., -1.7861, -5.6131, -5.2480],\n",
       "         [-2.3096, -0.3832, -1.4977,  ..., -0.6405,  1.9082, -0.9869],\n",
       "         [-7.6021, -3.4779,  0.1527,  ..., -1.3433, -3.7863,  4.4395]]),\n",
       " tensor([[ 0.6186, -2.4110, -3.2034,  ..., -0.5869, -1.2816, -3.5824],\n",
       "         [-2.6124, -2.5895, -1.0110,  ...,  1.7629,  1.3543, -2.6776],\n",
       "         [-3.1649, -6.1503, -1.9351,  ..., -4.9027,  0.6789,  1.7111],\n",
       "         ...,\n",
       "         [ 4.2797, -5.6106,  2.2363,  ..., -1.6418, -6.6256, -1.9655],\n",
       "         [-1.3601,  3.0307,  0.4500,  ..., -8.5069, -2.5618,  2.0747],\n",
       "         [-3.1409,  2.3872,  3.8188,  ..., -1.1373, -6.0381,  0.8117]]),\n",
       " tensor([[ 1.2936,  4.4575, -2.6986,  ..., -6.7873, -2.4920, -1.6395],\n",
       "         [-0.1809, 10.1075,  0.3089,  ..., -4.8912,  3.0238, -5.0356],\n",
       "         [-2.2940, -1.7717, -2.9967,  ...,  4.4982,  3.8533,  3.1392],\n",
       "         ...,\n",
       "         [-6.3087,  0.6262,  8.4688,  ..., -0.3303, -2.7581,  3.7247],\n",
       "         [-2.5688, -2.3105, 12.1454,  ...,  3.0054, -4.0571,  5.8457],\n",
       "         [-1.3840, -0.5921,  8.2126,  ..., -2.1151, -5.5447,  2.0229]]),\n",
       " tensor([[ -1.0078,   0.0397,   8.4444,  ...,   0.9486,  -5.3555,   2.8408],\n",
       "         [  2.1889,  -0.2775,   9.4343,  ...,   3.4537,  -5.0320,   3.9607],\n",
       "         [ -1.5556,  -1.0872,  10.3357,  ...,   3.3836,  -2.9153,   4.1705],\n",
       "         ...,\n",
       "         [  1.7678,  -7.3432,  -2.8820,  ...,   0.7599,  -4.6837,  -0.0411],\n",
       "         [  0.4645,  -4.8581,   1.3606,  ...,   1.7792,  -2.1382,   2.5108],\n",
       "         [  3.7918, -10.5480,   4.4175,  ...,   7.2458,  -3.7349,   2.2271]]),\n",
       " tensor([[-3.3082e+00, -1.0292e+01, -1.6003e+00,  ...,  6.1711e-01,\n",
       "          -4.6050e+00,  4.9109e+00],\n",
       "         [ 3.6019e-03, -7.5488e+00, -4.1485e+00,  ...,  1.5859e+00,\n",
       "           4.1034e-01, -1.6584e+00],\n",
       "         [ 1.2181e-01, -1.7353e+00, -6.1115e+00,  ..., -2.7968e+00,\n",
       "          -6.3991e+00,  1.4242e+00],\n",
       "         ...,\n",
       "         [ 5.1563e+00, -2.8254e+00, -4.9965e+00,  ...,  3.6145e+00,\n",
       "          -2.5474e+00, -9.4513e+00],\n",
       "         [ 4.0706e+00, -6.6291e+00, -8.6454e+00,  ...,  1.7414e+00,\n",
       "          -1.2026e+00, -4.0296e+00],\n",
       "         [ 3.5718e+00, -2.2386e+00, -1.9321e+00,  ...,  2.3926e+00,\n",
       "          -2.9194e+00, -8.5780e+00]]),\n",
       " tensor([[-3.8169, -7.5852, -8.9866,  ..., -2.6957, -6.2725,  2.3992],\n",
       "         [ 2.2115, -6.1501, -3.1093,  ...,  0.6519, -8.1196, -3.9550],\n",
       "         [ 0.7981, -3.4196, -1.4479,  ..., -6.5508, -5.2820, -4.3196],\n",
       "         ...,\n",
       "         [ 0.8233,  8.5589, -1.4101,  ..., -8.5321,  3.5425, -1.4600],\n",
       "         [-0.9305,  5.7616,  3.9430,  ..., -9.1277,  5.5379,  0.7655],\n",
       "         [-3.1041,  8.9464, -1.7807,  ..., -7.3630,  2.0657, -3.8561]]),\n",
       " tensor([[ 4.4587e-01,  9.7090e+00, -2.4938e+00,  ..., -2.1103e+00,\n",
       "           7.8336e+00, -1.8635e+00],\n",
       "         [-3.1359e-01,  7.3354e+00,  4.5591e+00,  ..., -1.0264e+01,\n",
       "           4.2933e+00,  1.3072e+00],\n",
       "         [-2.8741e+00,  8.0941e+00,  2.8418e+00,  ..., -9.0036e+00,\n",
       "           4.6480e+00,  1.0072e+00],\n",
       "         ...,\n",
       "         [ 5.2944e-01,  1.7000e+00, -4.4101e+00,  ...,  3.1230e+00,\n",
       "           2.0082e+00, -3.5236e+00],\n",
       "         [-2.4951e+00,  1.7000e+00, -1.1096e+00,  ...,  1.0148e+00,\n",
       "          -3.8135e-01, -2.3488e+00],\n",
       "         [-9.0697e+00, -1.4979e-03,  5.6876e+00,  ..., -4.6789e+00,\n",
       "           1.0218e+00,  9.5961e+00]]),\n",
       " tensor([[-4.6065,  0.3160, -1.4775,  ..., -1.4618,  0.6712,  2.9857],\n",
       "         [-5.8394, -3.6636, -3.7825,  ...,  1.8516,  0.7159,  3.7708],\n",
       "         [-5.0014,  2.5937,  6.3029,  ..., -4.8941, -0.8213,  4.5913],\n",
       "         ...,\n",
       "         [-3.2036, -0.1661, -9.1743,  ..., -6.0737,  8.8647, -1.7722],\n",
       "         [-5.2313,  2.8085, -5.1970,  ..., -8.4670,  3.0491,  1.4131],\n",
       "         [-4.2431,  8.1116, -0.6472,  ..., -3.9637, -5.2008, -6.1640]]),\n",
       " tensor([[-2.2156e+00,  7.0845e+00,  5.2464e+00,  ..., -3.4418e+00,\n",
       "          -2.9442e-01,  9.1596e-01],\n",
       "         [-3.2526e-01, -7.8625e-02,  3.2868e+00,  ..., -2.2172e+00,\n",
       "          -7.4934e+00, -1.5776e+00],\n",
       "         [-3.8927e+00,  2.1535e-01,  5.5914e+00,  ..., -6.8899e+00,\n",
       "          -7.6247e+00,  1.8212e+00],\n",
       "         ...,\n",
       "         [-1.5926e-01, -5.3733e+00, -3.5177e+00,  ..., -5.6447e+00,\n",
       "          -8.3823e+00, -6.8990e-02],\n",
       "         [-1.2766e-02,  5.1020e+00,  3.9455e+00,  ..., -2.2129e+00,\n",
       "           3.9116e+00, -5.1885e+00],\n",
       "         [ 4.5858e+00,  2.9937e+00, -1.6451e-03,  ..., -6.2911e+00,\n",
       "           7.8899e+00,  1.2970e+00]]),\n",
       " tensor([[ 5.9940,  0.8889, -0.7171,  ..., -5.0527,  5.4043, -2.9831],\n",
       "         [ 1.3029, -0.5501, -2.6668,  ..., -3.8022,  1.9524, -0.5408],\n",
       "         [-2.8759, -2.2202, -3.2806,  ...,  1.2717,  1.0937, -3.1276],\n",
       "         ...,\n",
       "         [-1.2352,  6.8799, -2.3140,  ..., -7.3181,  0.5676, -0.8844],\n",
       "         [ 4.2671, -3.0909,  3.0523,  ..., -1.6845, -4.9947, -0.1228],\n",
       "         [ 2.2091, -0.9971,  4.6479,  ...,  0.4959,  0.9113, -3.8814]]),\n",
       " tensor([[ 1.7742, -0.3358,  2.7165,  ...,  0.4304, -4.7113, -3.0355],\n",
       "         [ 6.4893, -2.0338,  2.8088,  ...,  3.1918, -3.0304, -2.2525],\n",
       "         [ 3.3648, -2.4520,  2.2798,  ...,  1.5227, -2.5579, -1.6326],\n",
       "         ...,\n",
       "         [ 0.2503, -3.4285, -6.5548,  ..., -1.0686, -2.9315, -6.4095],\n",
       "         [-3.0146, -2.1658, -7.1659,  ..., -7.5639,  8.0794,  0.7090],\n",
       "         [ 5.9712, -3.8477, -8.4832,  ..., -6.6866,  0.0216, -3.2794]]),\n",
       " tensor([[  2.0723,   2.9330, -10.6792,  ...,  -2.6982,   1.5531,  -3.7899],\n",
       "         [  2.4779,   6.2240, -11.3361,  ...,   2.0337,   2.2601,  -5.4721],\n",
       "         [  4.4840,  -4.2136,  -7.0308,  ...,  -0.8601,   4.4051,  -2.8895],\n",
       "         ...,\n",
       "         [  3.5947,  -5.5708,  -3.8500,  ...,  -3.6506,  -2.8769,  -1.0687],\n",
       "         [  1.4666,   3.0538,  -9.9392,  ...,  -8.3577,  10.0581,  -6.3889],\n",
       "         [ -0.3829,  -4.7077,  -4.6797,  ...,   2.5263,   0.9811,  -2.4729]]),\n",
       " tensor([[ 3.5039, -1.7476, -1.7378,  ...,  1.2667,  7.2991, -7.1663],\n",
       "         [ 2.1460, -4.7343, -5.5684,  ..., -3.2363,  1.1262, -1.5554],\n",
       "         [-0.6725, -2.3808, -3.2787,  ..., -0.7397,  3.6252, -4.6338],\n",
       "         ...,\n",
       "         [ 3.9127, -0.2701,  6.3653,  ..., -4.4141, -2.1051,  2.8799],\n",
       "         [-1.2009,  4.3550,  4.2785,  ..., -5.1225, -6.6837, -0.0847],\n",
       "         [ 3.7784, -1.5280,  2.1387,  ..., -2.1583, -5.4733, -3.6962]]),\n",
       " tensor([[ 4.6295, -1.1588,  3.8545,  ..., -3.5389,  2.3077,  0.3591],\n",
       "         [ 1.4411,  1.1347,  7.9007,  ..., -0.7789,  0.4711,  1.5307],\n",
       "         [ 0.7833, -3.2413,  0.9720,  ..., -3.7099, -6.9288, -0.0761],\n",
       "         ...,\n",
       "         [-1.2826, -6.3974, -3.6399,  ...,  0.6376, -6.4211, -3.5005],\n",
       "         [-3.8904, -6.6274, -0.2279,  ..., -0.6227, -3.3091,  4.5512],\n",
       "         [-1.6326,  5.9181,  5.4031,  ..., -0.9966,  3.6543,  7.0843]]),\n",
       " tensor([[ -1.4771,  -3.3018,  -3.9131,  ...,   4.5310,   3.1314,   0.9998],\n",
       "         [ -1.3110,   2.1971,  -7.9429,  ...,  -4.1690,  14.9516,  -4.6424],\n",
       "         [ -1.1922,  -1.0495,  -3.1013,  ...,  -4.3987,   1.4851,   4.6707],\n",
       "         ...,\n",
       "         [ -1.9241,  -8.2568, -11.1661,  ...,  -0.0535,   1.7405,   1.0958],\n",
       "         [ -5.2546,  -7.7523,  -3.5218,  ...,  -0.4319,  -0.2073,   3.7056],\n",
       "         [ -0.5196, -14.4315,  -2.1418,  ...,   0.7261,  -2.6118,   7.0882]]),\n",
       " tensor([[ -4.0715,  -9.0685,  -4.7214,  ...,   0.8285,  -0.3071,   8.1577],\n",
       "         [  1.9045, -13.4003,  -8.2064,  ...,   5.0782,   4.2858,   2.4146],\n",
       "         [  4.2128, -13.3827,  -6.2906,  ...,   3.6259,   8.7504,   2.4392],\n",
       "         ...,\n",
       "         [  0.0691,  -6.2902,   1.0436,  ...,   0.2407,  -2.6726,   3.1776],\n",
       "         [ -2.5938,  -4.9155,   2.6856,  ...,   3.0721,  -2.1616,   4.8596],\n",
       "         [ -9.1536,  -2.2764,  -0.9244,  ...,  -0.8371,  -9.6859,   3.6563]]),\n",
       " tensor([[-6.5423, -0.5341,  1.0978,  ..., -7.6765, -9.1168,  0.0394],\n",
       "         [-2.1913, -4.5196,  6.7614,  ...,  8.0999, -7.1306,  6.5227],\n",
       "         [-3.0690, -2.5976,  3.8860,  ...,  4.1420, -7.3278,  2.1236],\n",
       "         ...,\n",
       "         [-3.6850, -2.7509,  1.2811,  ...,  2.0437, -2.2592, -3.4304],\n",
       "         [-2.6258, -6.3112, -0.9154,  ...,  1.1530, -1.8563, -2.6193],\n",
       "         [-0.7198, -2.0324,  1.0664,  ...,  3.8472, -3.5247, -3.4025]]),\n",
       " tensor([[-3.8222, -1.1286,  1.4549,  ..., -2.2560, -4.5921, -2.0573],\n",
       "         [-1.4008,  0.4077, -1.0193,  ...,  2.0654, -2.3119, -4.0106],\n",
       "         [-2.2986,  1.2285,  1.4111,  ..., -0.1188, -4.0213, -3.4299],\n",
       "         ...,\n",
       "         [-5.8106,  0.5684,  3.4340,  ..., -4.2734, -6.9845, -1.3552],\n",
       "         [-2.8573,  1.4072, -0.1106,  ..., -3.8432, -6.1063, -4.2125],\n",
       "         [-4.6013, -1.5802, -0.6993,  ..., -2.6095, -4.1398, -3.5223]]),\n",
       " tensor([[-1.0030,  1.1106,  4.3280,  ..., -3.0117, -6.8267, -3.8291],\n",
       "         [-0.2700,  2.1613,  3.6409,  ..., -1.6373, -1.3493, -3.8015],\n",
       "         [-2.6410, -1.5148,  4.5891,  ..., -0.9693, -4.0770,  1.4929],\n",
       "         ...,\n",
       "         [-1.8713,  6.2221,  6.7025,  ..., -3.6834, -3.7993,  1.6470],\n",
       "         [-2.4467,  2.7488,  2.5389,  ..., -1.9131,  0.6813, -0.3572],\n",
       "         [ 0.3363,  7.4958,  6.0210,  ..., -2.8419, -1.7363, -0.1428]]),\n",
       " tensor([[-3.2712,  6.0754,  4.2219,  ..., -0.9562, -2.4992, -2.1974],\n",
       "         [-6.9920,  4.8104,  8.5487,  ..., -5.6557, -1.3839,  2.6486],\n",
       "         [ 5.0865, -6.0676, -7.7681,  ...,  5.3617,  3.3753, -8.6662],\n",
       "         ...,\n",
       "         [ 9.7751, -3.8743, -4.9242,  ...,  3.6304,  6.3669, -7.7116],\n",
       "         [ 5.5142, -2.4029, -3.7320,  ...,  1.5412,  5.0712, -4.3989],\n",
       "         [ 7.5017, -3.8749, -4.8260,  ...,  5.2003,  6.9661, -9.2838]]),\n",
       " tensor([[ 6.3167, -5.6221, -5.8705,  ..., -1.8407,  6.2147, -6.5757],\n",
       "         [ 2.4560, -3.9478, -3.6765,  ..., -4.7687, -0.5220, -8.2281],\n",
       "         [ 7.5423, -6.7584, -7.4829,  ...,  0.1641,  2.2348, -1.9064],\n",
       "         ...,\n",
       "         [ 9.4021, -1.8024, -3.5907,  ...,  4.0751,  8.1272, -8.1547],\n",
       "         [-0.6763, -2.5676, -0.3080,  ..., -8.9626, -3.6565, -3.2206],\n",
       "         [-2.3646, -0.7461, -1.1646,  ..., -4.2930, -4.2498, -3.9155]]),\n",
       " tensor([[ -2.9423,  -2.5555,  -0.5479,  ..., -10.4268,  -8.6372,  -6.1220],\n",
       "         [ -1.1557,  -4.7192,  -1.7940,  ...,  -2.3860,  -2.5885,  -2.9431],\n",
       "         [ -2.3361,  -3.2960,   0.7081,  ...,   0.1782,  -4.1008,  -1.1920],\n",
       "         ...,\n",
       "         [  1.4023,  -4.7200,   2.2671,  ...,  -4.8257,  -9.1732,   1.0828],\n",
       "         [ -1.2272,  -0.0658,  -3.2718,  ...,  -5.1594,  -4.7270,  -7.6404],\n",
       "         [  2.8415,  -7.5463,   5.0483,  ...,   0.7197,  -9.0248,   1.7518]]),\n",
       " tensor([[  6.9910,  -2.6399,  -1.1113,  ...,   0.1573,   1.0878,  -6.4960],\n",
       "         [-11.0190,   8.7256,  11.1455,  ..., -11.4017,  -2.2336,   4.3329],\n",
       "         [ -6.2922,   1.2871,  11.0465,  ...,   1.0467,  -0.9041,   0.8152],\n",
       "         ...,\n",
       "         [ 10.8656,  -3.0083,  -7.4631,  ...,   1.3296,   4.7516,  -8.1401],\n",
       "         [ 13.2932,  -4.3534,  -7.1212,  ...,   0.9085,   3.5803,  -7.6507],\n",
       "         [  4.6965,   1.2181,  -7.8622,  ...,  -7.0644,   6.7456, -11.5513]]),\n",
       " tensor([[ 9.2383e+00, -7.4486e+00, -8.7750e+00,  ..., -7.9924e+00,\n",
       "           5.1209e+00, -8.0416e+00],\n",
       "         [ 9.5291e+00, -1.6351e+00, -4.9945e+00,  ..., -3.0762e+00,\n",
       "           1.1179e+00, -9.5125e+00],\n",
       "         [ 2.6898e+00, -7.3206e-01, -8.9288e+00,  ..., -5.3029e+00,\n",
       "           7.6420e+00, -9.6406e+00],\n",
       "         ...,\n",
       "         [-6.2007e-01,  1.8044e+00, -5.7708e+00,  ..., -4.2441e+00,\n",
       "           2.3350e-01,  3.4465e-01],\n",
       "         [-1.6695e+00,  3.1292e+00, -4.7779e+00,  ..., -6.8592e+00,\n",
       "           2.3265e-01,  9.7976e-03],\n",
       "         [-3.9955e+00,  7.6569e-02, -5.0329e+00,  ..., -1.0297e+01,\n",
       "           3.6120e-01,  1.4560e+00]]),\n",
       " tensor([[-2.3191,  0.3674, -5.9260,  ..., -5.1549,  2.5076, -2.5962],\n",
       "         [ 2.8846, -0.6810, -9.1179,  ..., -1.6341,  0.4073, -2.2232],\n",
       "         [-1.8743, -8.6169, -8.7308,  ..., -6.4437, -8.4241,  0.6461],\n",
       "         ...,\n",
       "         [-1.7060, -5.9494, -5.4770,  ..., -3.9454, -4.4166, -0.1678],\n",
       "         [-3.2582, -6.7355, -7.4683,  ..., -3.5616, -5.7250, -2.2352],\n",
       "         [-2.9701, -7.1652, -7.0709,  ..., -4.1826, -4.3753, -3.4373]]),\n",
       " tensor([[ 1.0860, -7.0607, -2.0365,  ...,  0.8927, -3.8964, -0.8530],\n",
       "         [-0.0807, -5.7906, -3.2567,  ..., -4.5124,  0.9257,  2.5103],\n",
       "         [ 2.5433, -9.1866,  0.0800,  ..., -4.1049, -0.7597,  3.0797],\n",
       "         ...,\n",
       "         [-0.5694,  0.0251, -2.4609,  ..., -5.8676, -6.9082,  0.4025],\n",
       "         [ 1.5087, -1.0754,  0.1986,  ..., -7.7153, -7.8497, -0.4254],\n",
       "         [ 2.6602, -1.4616, -0.8698,  ..., -3.5309, -4.4382, -3.3755]]),\n",
       " tensor([[  5.0967,  -5.0468,   1.8693,  ...,  -5.8205, -10.2773,  -4.1075],\n",
       "         [ -0.0659,  -5.9957,   5.4438,  ...,  -5.4447,  -9.5435,   5.8904],\n",
       "         [ -1.2631,  -3.4347,   2.0402,  ...,  -0.5985,  -6.7102,   0.1198],\n",
       "         ...,\n",
       "         [ -8.2232,   2.5085,   0.1842,  ...,  -9.1292,  -2.7287,   0.9188],\n",
       "         [ -9.6372,   4.3706,   2.1175,  ...,  -7.2954,  -2.0401,   2.0884],\n",
       "         [ -9.2692,   4.6194,   2.8004,  ...,  -8.1699,   1.0610,   3.5752]]),\n",
       " tensor([[-9.0518,  5.4504,  1.9556,  ..., -7.3045,  0.2262,  0.7881],\n",
       "         [-7.7951,  5.0678,  0.5713,  ..., -9.6705, -2.4684, -0.0603],\n",
       "         [-5.3154,  0.7596,  2.7069,  ..., -7.6865, -3.0091,  2.3052],\n",
       "         ...,\n",
       "         [-0.3795, -1.5935, -2.0190,  ..., -9.7149, -7.5765, -0.8497],\n",
       "         [ 0.9283, -7.5056, -2.7081,  ..., -2.7587, -5.8799, -1.5931],\n",
       "         [ 4.4231, -5.6688, -4.9224,  ..., -6.2162, -4.7649, -6.2162]]),\n",
       " tensor([[  4.0113,   2.6659,   3.4483,  ...,  -1.3269,   0.9739,   1.7929],\n",
       "         [  1.4744,   1.6612,  12.0274,  ...,   3.8531,  -3.6659,   1.0487],\n",
       "         [  0.2681,   3.2716,   9.4408,  ...,   4.1329,  -3.5243,  -1.3564],\n",
       "         ...,\n",
       "         [  6.9138,  -2.2887,  -7.5204,  ...,   1.9044,   5.9933,  -8.9055],\n",
       "         [  9.1433,  -1.4912, -10.7689,  ...,   2.5012,  13.2838,  -7.9193],\n",
       "         [  0.7932,  -0.3002,  -1.4133,  ...,   1.6867,   4.1333,  -3.2588]]),\n",
       " tensor([[ 1.4399,  3.1349,  1.4808,  ...,  1.9106, -3.8741, -5.6124],\n",
       "         [-2.3509,  0.8877,  2.0507,  ..., -9.9501, -5.2218,  3.1326],\n",
       "         [ 1.0412, -0.2889, -0.8984,  ..., -6.3429, -0.8702,  1.9920],\n",
       "         ...,\n",
       "         [-8.1280, -5.0321, 17.0017,  ..., -4.1478, -3.8264, 15.9392],\n",
       "         [-7.9861, -0.7208, 16.4688,  ..., -3.1575, -4.3241, 10.6559],\n",
       "         [-9.1680, -3.9065,  9.5411,  ..., -7.4471, -6.7839, 10.4543]]),\n",
       " tensor([[ -5.5281,  -0.6205,   8.9126,  ...,  -6.1496,  -5.7498,   4.7691],\n",
       "         [-10.5564,  -3.0639,  13.7422,  ..., -10.2971,  -4.5936,  12.3279],\n",
       "         [  4.0704,  -7.2003,  -1.3504,  ...,   0.0762,   1.1502,   2.5398],\n",
       "         ...,\n",
       "         [ -8.0340,  -7.4507,   6.9148,  ...,   4.7814,  -8.3677,   2.9358],\n",
       "         [ -6.5324,  -3.4151,   6.4470,  ...,   4.7086,  -8.5828,   4.7856],\n",
       "         [ -6.5212,  -0.4776,   6.4411,  ...,  -2.9015, -11.1213,  -0.6250]]),\n",
       " tensor([[ -4.0531,  -7.8754,   7.3053,  ...,   3.3665,  -5.4984,   3.1231],\n",
       "         [ -5.3095,  -0.5934,   5.9987,  ...,   2.4312, -12.5748,   0.8351],\n",
       "         [ -4.1731,   0.7665,   5.2972,  ...,   1.1177, -11.1629,  -1.3277],\n",
       "         ...,\n",
       "         [  0.0403,  -6.6812, -10.3466,  ...,   4.7020,  -1.9997,  -1.4872],\n",
       "         [ -3.2883,  -5.2769,   0.4600,  ...,   5.0328,  -8.3126,  -2.3277],\n",
       "         [  0.8935,  -4.2269,  -9.2656,  ...,   5.3261,  -1.4139,  -0.2997]]),\n",
       " tensor([[ -2.3272,  -5.5336,  -2.9516,  ...,   6.3225,  -3.9050,   2.4266],\n",
       "         [ -3.4127,  -6.4301,  -5.2431,  ...,   5.1478,  -3.8137,   0.2835],\n",
       "         [ -1.1457,  -4.7806,  -8.0883,  ...,   6.3344,  -2.0149,  -5.3742],\n",
       "         ...,\n",
       "         [  4.1238,  -5.9966, -11.8127,  ...,  -0.4379,   5.1758,  -3.8437],\n",
       "         [ -5.1567,  -1.0628,  -8.2764,  ...,  -2.1900,   3.6398,  -3.5930],\n",
       "         [  4.5937,  -6.3995, -11.7399,  ...,  -2.5511,  -2.9721,  -7.5793]]),\n",
       " tensor([[ 5.1810e-01, -7.4712e+00, -1.1022e+01,  ..., -9.4058e-01,\n",
       "           7.5080e-01, -1.5373e+00],\n",
       "         [ 4.2270e+00, -6.5376e+00, -7.6139e+00,  ...,  1.7698e+00,\n",
       "          -2.4093e+00, -7.4844e+00],\n",
       "         [ 7.5510e+00, -6.9938e+00, -8.6060e+00,  ...,  2.1714e+00,\n",
       "           1.5802e+00, -6.8879e+00],\n",
       "         ...,\n",
       "         [ 1.7481e+00,  1.2568e-01, -6.0301e+00,  ..., -2.5709e+00,\n",
       "           4.0775e+00, -2.8295e+00],\n",
       "         [-1.4972e+00,  4.8278e+00, -3.8205e-01,  ..., -2.3777e+00,\n",
       "           1.1373e+01, -4.6025e+00],\n",
       "         [ 1.4427e+00,  2.8099e+00, -3.1043e+00,  ...,  3.7802e-03,\n",
       "           8.2101e+00, -3.2294e+00]]),\n",
       " tensor([[ 5.2335, -2.7090, -1.5854,  ...,  1.9119,  6.8335, -3.4113],\n",
       "         [-0.9935,  0.1131, -1.1169,  ..., -2.9860,  8.2436, -1.9242],\n",
       "         [ 7.0362, -2.5814, -4.4138,  ..., -1.3007,  7.6482, -7.0715],\n",
       "         ...,\n",
       "         [-1.8904,  4.4194,  0.1880,  ..., -3.9834, -5.6330,  4.5806],\n",
       "         [ 1.4617, -4.7593,  1.8875,  ..., -1.9192, -7.3771,  2.1668],\n",
       "         [ 1.5200, -0.3133,  0.2191,  ..., -0.2463, -3.4920,  2.7876]]),\n",
       " tensor([[ -1.2984,  -1.1972,   1.8660,  ...,  -5.1057,  -6.2407,   3.1808],\n",
       "         [ -5.4070,  -1.9594,   5.2864,  ...,  -9.4066, -12.7610,   9.9907],\n",
       "         [  4.9009,  -1.0324,   4.6276,  ...,   0.8194,  -7.2766,   2.9602],\n",
       "         ...,\n",
       "         [ -2.2446,   1.2823,   4.3406,  ...,   1.0373,  -5.2968,  -0.7827],\n",
       "         [ -3.4997,   1.9568,   3.4267,  ...,   1.7650,  -4.9365,   0.2419],\n",
       "         [  1.1562,   2.6556,   3.0963,  ...,  -2.8465,  -7.7217,   1.2054]]),\n",
       " tensor([[-13.5568,   1.4082,   1.6126,  ..., -14.5405, -10.1202,  10.2960],\n",
       "         [ -8.7617,  -3.5583,   0.9774,  ...,   3.1337, -13.0801,  -5.0081],\n",
       "         [ -8.3352,  -4.6209,   2.0239,  ...,   2.2518, -12.8395,  -2.7511],\n",
       "         ...,\n",
       "         [-12.3116,   3.5723,   1.6807,  ...,  -5.5445,  -2.3566,   7.4646],\n",
       "         [ -5.3022,   1.6933,   0.6585,  ...,   2.3927,  -1.5380,   2.2072],\n",
       "         [ -8.4099,   8.0587,   0.8140,  ...,  -2.4012,   2.1584,   3.5636]]),\n",
       " tensor([[ -6.7819,  -5.2097,  -1.6492,  ...,  -3.1949,   0.5287,   6.6256],\n",
       "         [ -9.1080,  -2.7468,   3.7383,  ...,  -3.1580,   0.2609,  12.6368],\n",
       "         [-13.6830,   2.4145,   3.2335,  ...,   1.2277,   0.3170,   7.6781],\n",
       "         ...,\n",
       "         [ -0.7768,  -9.6179,  -3.6818,  ...,   4.4156,  -8.2058,  -4.6914],\n",
       "         [ -0.5936,  -9.5633,  -2.9549,  ...,   8.7804,  -0.4155,  -2.2972],\n",
       "         [  0.0911, -12.0830,  -2.3550,  ...,   1.0483,  -7.1778,   1.3707]]),\n",
       " tensor([[  0.9188,  -9.1465,  -4.0650,  ...,   7.3198,  -2.1542,  -2.3407],\n",
       "         [ -3.7220,   0.0615,   2.4193,  ...,  -6.8064,  -5.3248,   0.8624],\n",
       "         [ -7.7278,  -0.1021,   4.2978,  ...,  -5.0583,  -1.4446,   0.9642],\n",
       "         ...,\n",
       "         [ -5.1751,  -3.5978,   0.4958,  ...,  -6.0645, -11.0327,  -2.9313],\n",
       "         [ -6.0582,  -3.9295,   5.8390,  ...,  -3.6882,  -5.7241,   6.0269],\n",
       "         [ -5.6144,   2.2466,   0.2155,  ...,  -9.1557,   0.3375,  -0.4429]]),\n",
       " tensor([[-7.1084, -4.4663,  8.8635,  ..., -5.9259, -5.9207,  4.0022],\n",
       "         [-7.8598, -1.2749,  5.7125,  ..., -5.5803, -7.1856,  3.8166],\n",
       "         [-3.7109, -3.3127,  0.9527,  ..., -5.6810, -4.3268,  5.2339],\n",
       "         ...,\n",
       "         [ 0.9964, -5.2005, -7.1177,  ...,  0.5782,  1.0881,  3.8476],\n",
       "         [10.4494, -2.6585, -6.1977,  ...,  2.4957, 11.6848, -0.5815],\n",
       "         [ 7.6327, -3.6714, -5.9439,  ...,  5.5057,  3.7300, -2.3193]]),\n",
       " tensor([[ 2.8373, -3.2393, -4.9820,  ...,  8.4205,  9.9258, -6.0874],\n",
       "         [ 3.7486, -4.6326, -2.3007,  ...,  5.7207,  2.4941, -1.8236],\n",
       "         [ 5.0498, -8.1093, -3.0819,  ..., 10.3521,  5.4224, -6.3781],\n",
       "         ...,\n",
       "         [ 0.8904, -1.7429, -3.9584,  ..., -0.5670, -1.4553,  0.0334],\n",
       "         [ 1.0473, -1.2894, -4.6208,  ..., -7.2200, -0.0348, -1.7821],\n",
       "         [ 6.5348, -1.9169, -5.4781,  ..., -0.1464,  1.8517, -2.5049]]),\n",
       " tensor([[ 2.9474, -0.5163, -3.8355,  ...,  1.0731,  1.5763,  0.2473],\n",
       "         [-5.7371,  5.9418, -3.6204,  ..., -7.0482,  5.2722, -3.3499],\n",
       "         [ 1.8300, -4.9473, -3.0886,  ...,  2.9155, -5.8117, -4.9010],\n",
       "         ...,\n",
       "         [10.0211, -2.9219, -0.7495,  ..., -1.2950,  9.4487, -4.5809],\n",
       "         [ 4.4475, -3.9553, -4.6503,  ..., -2.1961, -0.8711, -4.0486],\n",
       "         [11.1052, -4.8353, -3.0617,  ..., -0.1661,  5.8178, -0.2129]]),\n",
       " tensor([[  8.5283,  -2.0117,   1.5995,  ...,  -2.5870,  -1.8526,   1.8432],\n",
       "         [ -2.7806, -11.3072,  -2.4460,  ...,  -5.5830,  -7.5175,   7.5857],\n",
       "         [ -9.3889,  -6.5920,  -0.8973,  ...,  -7.6698,  -8.6971,   8.4132],\n",
       "         ...,\n",
       "         [ -5.2486, -10.5679,   2.2065,  ...,  -9.0988,  -5.2937,   9.3754],\n",
       "         [ -5.9771,  -3.6491,  -5.8077,  ..., -13.7500,  -5.6394,   5.0392],\n",
       "         [-10.4738,  -1.6038, -10.0945,  ..., -10.8723,  -1.2303,   7.9737]]),\n",
       " tensor([[ -6.4500,  -3.8616,  -7.2826,  ..., -14.4364,  -8.7398,   1.4242],\n",
       "         [ -1.4803,  -8.0195,  -4.2987,  ...,  -8.3546,  -6.2591,   1.8077],\n",
       "         [ -5.3622,  -3.4228,  -7.9646,  ...,  -5.3928,  -2.6638,   7.7758],\n",
       "         ...,\n",
       "         [ -6.9274,  -0.6968,  -3.9993,  ...,  -8.5705,  -5.4962,   4.4119],\n",
       "         [ -2.6127,  -0.0495,  -8.8473,  ...,  -7.4062,  -3.0745,  -1.8012],\n",
       "         [ -1.5695,  -4.2723,  -9.4507,  ...,  -9.7775,  -3.5642,  -1.8566]]),\n",
       " tensor([[ 8.4496, -4.6387, -0.3541,  ...,  6.5659,  0.4970, -6.2157],\n",
       "         [ 1.9939, -3.3612,  3.3422,  ..., 11.5174,  1.9247, -6.6295],\n",
       "         [ 9.0575, -5.4551,  3.9826,  ..., 12.3263,  2.7731, -2.8115],\n",
       "         ...,\n",
       "         [ 3.6878, -2.1639,  6.2273,  ...,  6.1339,  4.5522, -1.8495],\n",
       "         [ 2.3611, -4.6623,  1.7840,  ..., 11.4451,  5.2905, -6.5117],\n",
       "         [-0.5128, -6.2583,  2.1748,  ...,  5.7285,  5.7541, -1.3139]]),\n",
       " tensor([[-5.7407,  4.6135, -6.8510,  ..., -9.8226,  6.7902, -2.1915],\n",
       "         [-9.0651,  6.5061, -1.8884,  ..., -6.2334,  5.3083,  2.0772],\n",
       "         [-8.0597,  8.0078, -4.6720,  ..., -9.0266,  3.9977, -1.9219],\n",
       "         ...,\n",
       "         [-0.0390, -6.5532, -4.2600,  ...,  5.6035, -5.5110, -4.8017],\n",
       "         [-1.7235,  8.9664,  1.8742,  ..., -3.5305, -2.4493,  9.4063],\n",
       "         [-2.1407,  8.6004,  0.5284,  ..., -0.3408,  0.4758,  4.4331]]),\n",
       " tensor([[ -4.5835,  -5.5987,  -0.9444,  ...,  -5.0697,  -0.6283,   0.9752],\n",
       "         [  3.1200,  -4.6310,   3.0083,  ...,  -2.6809,   3.6595,   2.6735],\n",
       "         [ -5.3323,   0.4960,   0.5017,  ...,  -8.9524,   4.8017,   2.4778],\n",
       "         ...,\n",
       "         [ -3.5702,  -2.2084,  -0.9849,  ...,  -9.0123,   3.1055,   3.1716],\n",
       "         [ -4.4787,  -0.7117,  -3.6115,  ...,  11.0542, -11.0781,  -2.9798],\n",
       "         [ -2.0046,  -5.1950,  -6.4729,  ...,   0.9378,  -0.9073,   1.1556]]),\n",
       " tensor([[ -7.5723,  -0.4839,  -1.0005,  ...,   6.2763,  -9.7411,  -0.9150],\n",
       "         [ -8.5900,  -2.5907,  -3.2081,  ...,  14.5294, -14.6636,  -1.0414],\n",
       "         [ -4.4203,  -1.1788,   1.0753,  ...,   1.3145,  -7.9465,  -0.0948],\n",
       "         ...,\n",
       "         [  9.0378, -12.2521,  -7.3246,  ...,   6.4037,   3.0830,   4.1822],\n",
       "         [  7.2965, -10.7287,  -7.1155,  ...,   9.4776,   3.9037,  -0.3372],\n",
       "         [ -2.8598,  -7.5079,  -4.1584,  ...,   1.5620,  -0.8998,   7.5407]]),\n",
       " tensor([[  2.3159,  -7.7045,  -6.6616,  ...,   4.9936,   6.7021,   0.2559],\n",
       "         [  3.2530,  -6.4619,  -6.1319,  ...,  14.8044,  -0.4361,  -9.4498],\n",
       "         [  0.5344, -10.3231,  -7.0774,  ...,  14.9834,  -5.8484,  -6.7193],\n",
       "         ...,\n",
       "         [ -3.0088,  -6.9714,   2.1142,  ...,  21.1830,  -5.7918,  -2.9900],\n",
       "         [  4.6823,  -3.4254,  -0.3607,  ...,  17.2856,   0.9094,  -7.7241],\n",
       "         [  2.4661,  -5.1590,  -0.4110,  ...,  14.6537,  -1.4775,  -2.7031]]),\n",
       " tensor([[  4.4795,  -2.7450,   0.1471,  ...,  20.2268,  -0.8592,  -4.0431],\n",
       "         [  0.7281,  -7.0858,  -2.7257,  ...,  25.5647,  -3.2307,  -9.7260],\n",
       "         [  7.3292,   0.0648,  -9.2535,  ...,  -0.5544,  28.3444,  -5.8993],\n",
       "         ...,\n",
       "         [ -9.1276,  -5.7235,  -0.0821,  ...,  -8.4928,  -0.6828,  26.7868],\n",
       "         [ -7.5750,  -4.2114,   7.4991,  ...,  -4.0461,  -5.9356,  14.2787],\n",
       "         [-18.0029,  -6.5488,   1.0803,  ...,  -8.2512,  -5.6731,  31.6662]]),\n",
       " tensor([[-1.1322e+01, -4.0680e+00,  3.2646e+00,  9.3729e+00,  7.6185e+00,\n",
       "          -5.1156e+00, -7.9259e+00,  5.8649e-01, -1.1692e+01,  2.7934e-01,\n",
       "          -7.2335e+00,  5.8504e+00,  4.5340e+00,  3.6061e+00, -8.5783e-01,\n",
       "          -4.0989e+00, -1.0266e+00, -4.5709e+00, -4.8616e-01,  5.8694e+00,\n",
       "           3.3949e+00, -1.7769e+00, -1.7080e+00, -1.0549e+00, -1.3506e+00,\n",
       "          -9.6498e+00, -1.8671e+00, -8.4542e+00,  7.4084e-01, -2.6862e+00,\n",
       "          -7.9863e+00, -1.8885e+00,  1.8650e+00, -2.1678e-01,  7.3370e+00,\n",
       "           9.8458e+00,  6.9186e-02,  4.6429e+00,  1.0798e+00, -2.3319e+00,\n",
       "          -2.3233e+00,  5.1790e+00, -1.8503e+00,  7.9692e+00, -9.8478e+00,\n",
       "           5.7513e-02, -1.2388e+00, -6.7975e+00,  2.2601e+00, -6.0030e+00,\n",
       "           3.0201e+00, -1.1694e+00, -5.5127e+00, -1.1228e+01,  1.4874e+00,\n",
       "           8.0981e+00, -1.6747e+00,  1.9482e+00,  2.9952e+00,  2.5828e+00,\n",
       "           5.4429e+00, -4.2124e+00,  8.7858e-01, -2.6159e+00, -5.0155e+00,\n",
       "           4.1749e+00, -5.6262e+00, -1.1556e+01,  1.5155e+00,  8.6868e-01,\n",
       "          -1.1090e+01,  3.8776e+00,  1.4973e+00,  6.4824e+00, -3.9227e+00,\n",
       "          -7.1369e+00, -7.1929e+00,  1.1444e+01, -9.2469e-01,  7.7471e+00,\n",
       "           9.9349e+00,  8.5196e+00,  3.7269e+00,  5.5219e+00, -6.1594e+00,\n",
       "           3.6814e+00,  6.0358e-01, -5.8485e+00,  6.3890e+00,  5.2052e+00,\n",
       "          -7.2373e+00, -2.0677e+00, -4.6825e+00,  8.1400e+00,  6.1935e+00,\n",
       "           2.1847e+00, -1.3795e-02,  5.1900e+00, -3.7820e+00,  1.6517e-01,\n",
       "          -2.6266e+00,  2.4304e+01],\n",
       "         [-1.2753e+01, -2.3000e+00,  5.0375e+00,  4.9797e+00,  5.7635e+00,\n",
       "          -9.3381e+00, -8.4922e+00,  7.1740e+00, -1.0766e+01, -2.0030e+00,\n",
       "          -1.1005e+01,  1.3500e+00,  2.0852e+00,  1.7708e+00, -2.3801e+00,\n",
       "          -3.7358e+00, -3.9455e+00, -1.3397e+00,  2.9495e+00,  9.8537e+00,\n",
       "           2.5624e+00, -3.0194e+00,  7.6160e-01,  4.3407e+00,  1.2731e+00,\n",
       "          -1.2768e+01, -3.0477e+00, -3.9046e+00, -2.7435e+00, -3.5854e+00,\n",
       "          -1.6029e+00,  2.9413e-01, -1.1276e+00, -2.6173e+00,  8.1543e+00,\n",
       "           2.6731e+00, -3.8219e+00,  8.7243e+00,  6.1014e+00, -2.1902e+00,\n",
       "           1.7871e+00,  8.0829e+00, -3.6486e+00, -1.3633e+00, -3.7835e+00,\n",
       "          -5.3510e-01, -2.7951e+00, -6.2976e+00, -4.4767e+00, -7.8560e+00,\n",
       "          -6.2544e+00, -7.0250e+00, -2.8536e+00, -1.6908e+01,  5.3405e+00,\n",
       "           4.8178e+00, -3.9136e+00,  8.3265e+00,  3.7924e+00,  1.7356e+00,\n",
       "           5.2114e-01, -6.7220e+00, -2.8827e+00, -4.5978e+00, -1.1765e+01,\n",
       "          -2.8467e+00, -5.0231e+00, -1.0711e+01,  2.2497e+00, -1.2734e+00,\n",
       "          -1.0974e+01,  7.6968e+00,  1.8741e+00,  1.0930e+01, -3.7056e+00,\n",
       "          -6.7601e+00, -3.7220e-01,  1.0258e+01,  5.5998e+00,  7.8058e+00,\n",
       "           5.6133e+00,  7.3361e+00,  3.4105e+00,  3.6317e+00,  1.1842e+00,\n",
       "           1.0616e+01,  1.1277e+01, -4.6010e+00,  4.9712e+00, -1.8180e+00,\n",
       "          -9.0460e+00, -4.5910e+00,  7.3926e-01,  7.8919e+00,  4.9918e+00,\n",
       "           4.0252e+00, -1.9420e+00,  1.5552e+00,  4.5140e+00,  1.3204e+00,\n",
       "          -5.0737e+00,  2.4967e+01]])]"
      ]
     },
     "execution_count": 10,
     "metadata": {},
     "output_type": "execute_result"
    }
   ],
   "source": [
    "#outputs tensors\n",
    "\n",
    "dm = FlowersClassifierDataModule()\n",
    "\n",
    "predictions = trainer.predict(model, datamodule=dm)"
   ]
  },
  {
   "cell_type": "code",
   "execution_count": 57,
   "id": "b9869485",
   "metadata": {
    "scrolled": true
   },
   "outputs": [
    {
     "ename": "TypeError",
     "evalue": "Unwrapping the module did not yield a `LightningModule`, got <class 'type'> instead.",
     "output_type": "error",
     "traceback": [
      "\u001b[1;31m---------------------------------------------------------------------------\u001b[0m",
      "\u001b[1;31mTypeError\u001b[0m                                 Traceback (most recent call last)",
      "File \u001b[1;32m~\\anaconda3\\lib\\site-packages\\pytorch_lightning\\trainer\\trainer.py:650\u001b[0m, in \u001b[0;36mTrainer._call_and_handle_interrupt\u001b[1;34m(self, trainer_fn, *args, **kwargs)\u001b[0m\n\u001b[0;32m    649\u001b[0m     \u001b[38;5;28;01melse\u001b[39;00m:\n\u001b[1;32m--> 650\u001b[0m         \u001b[38;5;28;01mreturn\u001b[39;00m trainer_fn(\u001b[38;5;241m*\u001b[39margs, \u001b[38;5;241m*\u001b[39m\u001b[38;5;241m*\u001b[39mkwargs)\n\u001b[0;32m    651\u001b[0m \u001b[38;5;66;03m# TODO(awaelchli): Unify both exceptions below, where `KeyboardError` doesn't re-raise\u001b[39;00m\n",
      "File \u001b[1;32m~\\anaconda3\\lib\\site-packages\\pytorch_lightning\\trainer\\trainer.py:991\u001b[0m, in \u001b[0;36mTrainer._predict_impl\u001b[1;34m(self, model, dataloaders, datamodule, return_predictions, ckpt_path)\u001b[0m\n\u001b[0;32m    988\u001b[0m \u001b[38;5;28mself\u001b[39m\u001b[38;5;241m.\u001b[39m_data_connector\u001b[38;5;241m.\u001b[39mattach_data(model, predict_dataloaders\u001b[38;5;241m=\u001b[39mdataloaders, datamodule\u001b[38;5;241m=\u001b[39mdatamodule)\n\u001b[0;32m    990\u001b[0m \u001b[38;5;28mself\u001b[39m\u001b[38;5;241m.\u001b[39m_ckpt_path \u001b[38;5;241m=\u001b[39m \u001b[38;5;28mself\u001b[39m\u001b[38;5;241m.\u001b[39m__set_ckpt_path(\n\u001b[1;32m--> 991\u001b[0m     ckpt_path, model_provided\u001b[38;5;241m=\u001b[39mmodel_provided, model_connected\u001b[38;5;241m=\u001b[39m\u001b[38;5;28;43mself\u001b[39;49m\u001b[38;5;241;43m.\u001b[39;49m\u001b[43mlightning_module\u001b[49m \u001b[38;5;129;01mis\u001b[39;00m \u001b[38;5;129;01mnot\u001b[39;00m \u001b[38;5;28;01mNone\u001b[39;00m\n\u001b[0;32m    992\u001b[0m )\n\u001b[0;32m    994\u001b[0m \u001b[38;5;28mself\u001b[39m\u001b[38;5;241m.\u001b[39m_predicted_ckpt_path \u001b[38;5;241m=\u001b[39m \u001b[38;5;28mself\u001b[39m\u001b[38;5;241m.\u001b[39mckpt_path  \u001b[38;5;66;03m# TODO: remove in v1.8\u001b[39;00m\n",
      "File \u001b[1;32m~\\anaconda3\\lib\\site-packages\\pytorch_lightning\\trainer\\trainer.py:2124\u001b[0m, in \u001b[0;36mTrainer.lightning_module\u001b[1;34m(self)\u001b[0m\n\u001b[0;32m   2121\u001b[0m \u001b[38;5;129m@property\u001b[39m\n\u001b[0;32m   2122\u001b[0m \u001b[38;5;28;01mdef\u001b[39;00m \u001b[38;5;21mlightning_module\u001b[39m(\u001b[38;5;28mself\u001b[39m) \u001b[38;5;241m-\u001b[39m\u001b[38;5;241m>\u001b[39m \u001b[38;5;124m\"\u001b[39m\u001b[38;5;124mpl.LightningModule\u001b[39m\u001b[38;5;124m\"\u001b[39m:\n\u001b[0;32m   2123\u001b[0m     \u001b[38;5;66;03m# TODO: this is actually an optional return\u001b[39;00m\n\u001b[1;32m-> 2124\u001b[0m     \u001b[38;5;28;01mreturn\u001b[39;00m \u001b[38;5;28;43mself\u001b[39;49m\u001b[38;5;241;43m.\u001b[39;49m\u001b[43mstrategy\u001b[49m\u001b[38;5;241;43m.\u001b[39;49m\u001b[43mlightning_module\u001b[49m\n",
      "File \u001b[1;32m~\\anaconda3\\lib\\site-packages\\pytorch_lightning\\strategies\\strategy.py:335\u001b[0m, in \u001b[0;36mStrategy.lightning_module\u001b[1;34m(self)\u001b[0m\n\u001b[0;32m    334\u001b[0m \u001b[38;5;124;03m\"\"\"Returns the pure LightningModule without potential wrappers.\"\"\"\u001b[39;00m\n\u001b[1;32m--> 335\u001b[0m \u001b[38;5;28;01mreturn\u001b[39;00m \u001b[43munwrap_lightning_module\u001b[49m\u001b[43m(\u001b[49m\u001b[38;5;28;43mself\u001b[39;49m\u001b[38;5;241;43m.\u001b[39;49m\u001b[43mmodel\u001b[49m\u001b[43m)\u001b[49m \u001b[38;5;28;01mif\u001b[39;00m \u001b[38;5;28mself\u001b[39m\u001b[38;5;241m.\u001b[39mmodel \u001b[38;5;129;01mis\u001b[39;00m \u001b[38;5;129;01mnot\u001b[39;00m \u001b[38;5;28;01mNone\u001b[39;00m \u001b[38;5;28;01melse\u001b[39;00m \u001b[38;5;28;01mNone\u001b[39;00m\n",
      "File \u001b[1;32m~\\anaconda3\\lib\\site-packages\\pytorch_lightning\\overrides\\base.py:110\u001b[0m, in \u001b[0;36munwrap_lightning_module\u001b[1;34m(wrapped_model)\u001b[0m\n\u001b[0;32m    109\u001b[0m \u001b[38;5;28;01mif\u001b[39;00m \u001b[38;5;129;01mnot\u001b[39;00m \u001b[38;5;28misinstance\u001b[39m(model, pl\u001b[38;5;241m.\u001b[39mLightningModule):\n\u001b[1;32m--> 110\u001b[0m     \u001b[38;5;28;01mraise\u001b[39;00m \u001b[38;5;167;01mTypeError\u001b[39;00m(\u001b[38;5;124mf\u001b[39m\u001b[38;5;124m\"\u001b[39m\u001b[38;5;124mUnwrapping the module did not yield a `LightningModule`, got \u001b[39m\u001b[38;5;132;01m{\u001b[39;00m\u001b[38;5;28mtype\u001b[39m(model)\u001b[38;5;132;01m}\u001b[39;00m\u001b[38;5;124m instead.\u001b[39m\u001b[38;5;124m\"\u001b[39m)\n\u001b[0;32m    111\u001b[0m \u001b[38;5;28;01mreturn\u001b[39;00m model\n",
      "\u001b[1;31mTypeError\u001b[0m: Unwrapping the module did not yield a `LightningModule`, got <class 'type'> instead.",
      "\nDuring handling of the above exception, another exception occurred:\n",
      "\u001b[1;31mTypeError\u001b[0m                                 Traceback (most recent call last)",
      "Input \u001b[1;32mIn [57]\u001b[0m, in \u001b[0;36m<cell line: 3>\u001b[1;34m()\u001b[0m\n\u001b[0;32m      1\u001b[0m dm \u001b[38;5;241m=\u001b[39m FlowersClassifierDataModule()\n\u001b[1;32m----> 3\u001b[0m predictions \u001b[38;5;241m=\u001b[39m \u001b[43mtrainer\u001b[49m\u001b[38;5;241;43m.\u001b[39;49m\u001b[43mpredict\u001b[49m\u001b[43m(\u001b[49m\u001b[43mmodel\u001b[49m\u001b[43m,\u001b[49m\u001b[43m \u001b[49m\u001b[43mdatamodule\u001b[49m\u001b[38;5;241;43m=\u001b[39;49m\u001b[43mdm\u001b[49m\u001b[43m)\u001b[49m\n\u001b[0;32m      5\u001b[0m probs \u001b[38;5;241m=\u001b[39m nn\u001b[38;5;241m.\u001b[39mSoftmax() \u001b[38;5;66;03m# since the outputs are logits we use the softmax function to obtain probabilities\u001b[39;00m\n\u001b[0;32m      6\u001b[0m \u001b[38;5;28;01mdef\u001b[39;00m \u001b[38;5;21mget_score\u001b[39m(y_hat,y):\n",
      "File \u001b[1;32m~\\anaconda3\\lib\\site-packages\\pytorch_lightning\\trainer\\trainer.py:949\u001b[0m, in \u001b[0;36mTrainer.predict\u001b[1;34m(self, model, dataloaders, datamodule, return_predictions, ckpt_path)\u001b[0m\n\u001b[0;32m    924\u001b[0m \u001b[38;5;124mr\u001b[39m\u001b[38;5;124;03m\"\"\"\u001b[39;00m\n\u001b[0;32m    925\u001b[0m \u001b[38;5;124;03mRun inference on your data.\u001b[39;00m\n\u001b[0;32m    926\u001b[0m \u001b[38;5;124;03mThis will call the model forward function to compute predictions. Useful to perform distributed\u001b[39;00m\n\u001b[1;32m   (...)\u001b[0m\n\u001b[0;32m    946\u001b[0m \u001b[38;5;124;03m    Returns a list of dictionaries, one for each provided dataloader containing their respective predictions.\u001b[39;00m\n\u001b[0;32m    947\u001b[0m \u001b[38;5;124;03m\"\"\"\u001b[39;00m\n\u001b[0;32m    948\u001b[0m \u001b[38;5;28mself\u001b[39m\u001b[38;5;241m.\u001b[39mstrategy\u001b[38;5;241m.\u001b[39mmodel \u001b[38;5;241m=\u001b[39m model \u001b[38;5;129;01mor\u001b[39;00m \u001b[38;5;28mself\u001b[39m\u001b[38;5;241m.\u001b[39mlightning_module\n\u001b[1;32m--> 949\u001b[0m \u001b[38;5;28;01mreturn\u001b[39;00m \u001b[38;5;28;43mself\u001b[39;49m\u001b[38;5;241;43m.\u001b[39;49m\u001b[43m_call_and_handle_interrupt\u001b[49m\u001b[43m(\u001b[49m\n\u001b[0;32m    950\u001b[0m \u001b[43m    \u001b[49m\u001b[38;5;28;43mself\u001b[39;49m\u001b[38;5;241;43m.\u001b[39;49m\u001b[43m_predict_impl\u001b[49m\u001b[43m,\u001b[49m\u001b[43m \u001b[49m\u001b[43mmodel\u001b[49m\u001b[43m,\u001b[49m\u001b[43m \u001b[49m\u001b[43mdataloaders\u001b[49m\u001b[43m,\u001b[49m\u001b[43m \u001b[49m\u001b[43mdatamodule\u001b[49m\u001b[43m,\u001b[49m\u001b[43m \u001b[49m\u001b[43mreturn_predictions\u001b[49m\u001b[43m,\u001b[49m\u001b[43m \u001b[49m\u001b[43mckpt_path\u001b[49m\n\u001b[0;32m    951\u001b[0m \u001b[43m\u001b[49m\u001b[43m)\u001b[49m\n",
      "File \u001b[1;32m~\\anaconda3\\lib\\site-packages\\pytorch_lightning\\trainer\\trainer.py:663\u001b[0m, in \u001b[0;36mTrainer._call_and_handle_interrupt\u001b[1;34m(self, trainer_fn, *args, **kwargs)\u001b[0m\n\u001b[0;32m    660\u001b[0m \u001b[38;5;28;01mif\u001b[39;00m distributed_available() \u001b[38;5;129;01mand\u001b[39;00m \u001b[38;5;28mself\u001b[39m\u001b[38;5;241m.\u001b[39mworld_size \u001b[38;5;241m>\u001b[39m \u001b[38;5;241m1\u001b[39m:\n\u001b[0;32m    661\u001b[0m     \u001b[38;5;66;03m# try syncing remaining processes, kill otherwise\u001b[39;00m\n\u001b[0;32m    662\u001b[0m     \u001b[38;5;28mself\u001b[39m\u001b[38;5;241m.\u001b[39mstrategy\u001b[38;5;241m.\u001b[39mreconciliate_processes(traceback\u001b[38;5;241m.\u001b[39mformat_exc())\n\u001b[1;32m--> 663\u001b[0m \u001b[38;5;28;43mself\u001b[39;49m\u001b[38;5;241;43m.\u001b[39;49m\u001b[43m_call_callback_hooks\u001b[49m\u001b[43m(\u001b[49m\u001b[38;5;124;43m\"\u001b[39;49m\u001b[38;5;124;43mon_exception\u001b[39;49m\u001b[38;5;124;43m\"\u001b[39;49m\u001b[43m,\u001b[49m\u001b[43m \u001b[49m\u001b[43mexception\u001b[49m\u001b[43m)\u001b[49m\n\u001b[0;32m    664\u001b[0m \u001b[38;5;28mself\u001b[39m\u001b[38;5;241m.\u001b[39m_teardown()\n\u001b[0;32m    665\u001b[0m \u001b[38;5;66;03m# teardown might access the stage so we reset it after\u001b[39;00m\n",
      "File \u001b[1;32m~\\anaconda3\\lib\\site-packages\\pytorch_lightning\\trainer\\trainer.py:1588\u001b[0m, in \u001b[0;36mTrainer._call_callback_hooks\u001b[1;34m(self, hook_name, *args, **kwargs)\u001b[0m\n\u001b[0;32m   1585\u001b[0m             fn(\u001b[38;5;28mself\u001b[39m, \u001b[38;5;241m*\u001b[39margs, \u001b[38;5;241m*\u001b[39m\u001b[38;5;241m*\u001b[39mkwargs)\n\u001b[0;32m   1586\u001b[0m     \u001b[38;5;28;01mreturn\u001b[39;00m\n\u001b[1;32m-> 1588\u001b[0m pl_module \u001b[38;5;241m=\u001b[39m \u001b[38;5;28;43mself\u001b[39;49m\u001b[38;5;241;43m.\u001b[39;49m\u001b[43mlightning_module\u001b[49m\n\u001b[0;32m   1589\u001b[0m \u001b[38;5;28;01mif\u001b[39;00m pl_module:\n\u001b[0;32m   1590\u001b[0m     prev_fx_name \u001b[38;5;241m=\u001b[39m pl_module\u001b[38;5;241m.\u001b[39m_current_fx_name\n",
      "File \u001b[1;32m~\\anaconda3\\lib\\site-packages\\pytorch_lightning\\trainer\\trainer.py:2124\u001b[0m, in \u001b[0;36mTrainer.lightning_module\u001b[1;34m(self)\u001b[0m\n\u001b[0;32m   2121\u001b[0m \u001b[38;5;129m@property\u001b[39m\n\u001b[0;32m   2122\u001b[0m \u001b[38;5;28;01mdef\u001b[39;00m \u001b[38;5;21mlightning_module\u001b[39m(\u001b[38;5;28mself\u001b[39m) \u001b[38;5;241m-\u001b[39m\u001b[38;5;241m>\u001b[39m \u001b[38;5;124m\"\u001b[39m\u001b[38;5;124mpl.LightningModule\u001b[39m\u001b[38;5;124m\"\u001b[39m:\n\u001b[0;32m   2123\u001b[0m     \u001b[38;5;66;03m# TODO: this is actually an optional return\u001b[39;00m\n\u001b[1;32m-> 2124\u001b[0m     \u001b[38;5;28;01mreturn\u001b[39;00m \u001b[38;5;28;43mself\u001b[39;49m\u001b[38;5;241;43m.\u001b[39;49m\u001b[43mstrategy\u001b[49m\u001b[38;5;241;43m.\u001b[39;49m\u001b[43mlightning_module\u001b[49m\n",
      "File \u001b[1;32m~\\anaconda3\\lib\\site-packages\\pytorch_lightning\\strategies\\strategy.py:335\u001b[0m, in \u001b[0;36mStrategy.lightning_module\u001b[1;34m(self)\u001b[0m\n\u001b[0;32m    332\u001b[0m \u001b[38;5;129m@property\u001b[39m\n\u001b[0;32m    333\u001b[0m \u001b[38;5;28;01mdef\u001b[39;00m \u001b[38;5;21mlightning_module\u001b[39m(\u001b[38;5;28mself\u001b[39m) \u001b[38;5;241m-\u001b[39m\u001b[38;5;241m>\u001b[39m Optional[\u001b[38;5;124m\"\u001b[39m\u001b[38;5;124mpl.LightningModule\u001b[39m\u001b[38;5;124m\"\u001b[39m]:\n\u001b[0;32m    334\u001b[0m     \u001b[38;5;124;03m\"\"\"Returns the pure LightningModule without potential wrappers.\"\"\"\u001b[39;00m\n\u001b[1;32m--> 335\u001b[0m     \u001b[38;5;28;01mreturn\u001b[39;00m \u001b[43munwrap_lightning_module\u001b[49m\u001b[43m(\u001b[49m\u001b[38;5;28;43mself\u001b[39;49m\u001b[38;5;241;43m.\u001b[39;49m\u001b[43mmodel\u001b[49m\u001b[43m)\u001b[49m \u001b[38;5;28;01mif\u001b[39;00m \u001b[38;5;28mself\u001b[39m\u001b[38;5;241m.\u001b[39mmodel \u001b[38;5;129;01mis\u001b[39;00m \u001b[38;5;129;01mnot\u001b[39;00m \u001b[38;5;28;01mNone\u001b[39;00m \u001b[38;5;28;01melse\u001b[39;00m \u001b[38;5;28;01mNone\u001b[39;00m\n",
      "File \u001b[1;32m~\\anaconda3\\lib\\site-packages\\pytorch_lightning\\overrides\\base.py:110\u001b[0m, in \u001b[0;36munwrap_lightning_module\u001b[1;34m(wrapped_model)\u001b[0m\n\u001b[0;32m    108\u001b[0m     model \u001b[38;5;241m=\u001b[39m unwrap_lightning_module(model\u001b[38;5;241m.\u001b[39mmodule)\n\u001b[0;32m    109\u001b[0m \u001b[38;5;28;01mif\u001b[39;00m \u001b[38;5;129;01mnot\u001b[39;00m \u001b[38;5;28misinstance\u001b[39m(model, pl\u001b[38;5;241m.\u001b[39mLightningModule):\n\u001b[1;32m--> 110\u001b[0m     \u001b[38;5;28;01mraise\u001b[39;00m \u001b[38;5;167;01mTypeError\u001b[39;00m(\u001b[38;5;124mf\u001b[39m\u001b[38;5;124m\"\u001b[39m\u001b[38;5;124mUnwrapping the module did not yield a `LightningModule`, got \u001b[39m\u001b[38;5;132;01m{\u001b[39;00m\u001b[38;5;28mtype\u001b[39m(model)\u001b[38;5;132;01m}\u001b[39;00m\u001b[38;5;124m instead.\u001b[39m\u001b[38;5;124m\"\u001b[39m)\n\u001b[0;32m    111\u001b[0m \u001b[38;5;28;01mreturn\u001b[39;00m model\n",
      "\u001b[1;31mTypeError\u001b[0m: Unwrapping the module did not yield a `LightningModule`, got <class 'type'> instead."
     ]
    }
   ],
   "source": [
    "#Can't yet implement the dataloader into the predictior.\n",
    "\n",
    "dm = FlowersClassifierDataModule()\n",
    "\n",
    "predictions = trainer.predict(model, datamodule=dm)\n",
    "\n",
    "probs = nn.Softmax() # since the outputs are logits we use the softmax function to obtain probabilities\n",
    "def get_score(y_hat,y):\n",
    "    probabilities = []\n",
    "    accuracy = 0\n",
    "    for x in y_hat:\n",
    "        prob = probs(x)\n",
    "        top_p, top_class = prob.topk(1, dim = -1)\n",
    "        probabilities.append(float(top_class))\n",
    "    i = 0\n",
    "    for x in y:\n",
    "        if int(x) == int(probabilities[i]):\n",
    "            accuracy = accuracy + 1\n",
    "        i = i +1\n",
    "    score = accuracy/len(probabilities)\n",
    "    return score # returns accuracy\n",
    "get_score(predictions,\"/test set\")"
   ]
  },
  {
   "cell_type": "code",
   "execution_count": 61,
   "id": "c808ee46",
   "metadata": {},
   "outputs": [
    {
     "data": {
      "text/html": [
       "\n",
       "      <iframe id=\"tensorboard-frame-2bb2f70e18773773\" width=\"100%\" height=\"800\" frameborder=\"0\">\n",
       "      </iframe>\n",
       "      <script>\n",
       "        (function() {\n",
       "          const frame = document.getElementById(\"tensorboard-frame-2bb2f70e18773773\");\n",
       "          const url = new URL(\"/\", window.location);\n",
       "          const port = 6006;\n",
       "          if (port) {\n",
       "            url.port = port;\n",
       "          }\n",
       "          frame.src = url;\n",
       "        })();\n",
       "      </script>\n",
       "    "
      ],
      "text/plain": [
       "<IPython.core.display.HTML object>"
      ]
     },
     "metadata": {},
     "output_type": "display_data"
    }
   ],
   "source": [
    "%load_ext tensorboard \n",
    "%tensorboard --logdir lightning_logs/"
   ]
  },
  {
   "cell_type": "code",
   "execution_count": null,
   "id": "69ebd868",
   "metadata": {},
   "outputs": [],
   "source": []
  }
 ],
 "metadata": {
  "kernelspec": {
   "display_name": "Python 3 (ipykernel)",
   "language": "python",
   "name": "python3"
  },
  "language_info": {
   "codemirror_mode": {
    "name": "ipython",
    "version": 3
   },
   "file_extension": ".py",
   "mimetype": "text/x-python",
   "name": "python",
   "nbconvert_exporter": "python",
   "pygments_lexer": "ipython3",
   "version": "3.9.12"
  }
 },
 "nbformat": 4,
 "nbformat_minor": 5
}
